{
  "nbformat": 4,
  "nbformat_minor": 0,
  "metadata": {
    "colab": {
      "name": "18_przeszukiwanie_siatki.ipynb",
      "provenance": [],
      "authorship_tag": "ABX9TyPKnjotfVo8rMAjdJSNB8AK",
      "include_colab_link": true
    },
    "kernelspec": {
      "name": "python3",
      "display_name": "Python 3"
    }
  },
  "cells": [
    {
      "cell_type": "markdown",
      "metadata": {
        "id": "view-in-github",
        "colab_type": "text"
      },
      "source": [
        "<a href=\"https://colab.research.google.com/github/BartoszJanJerzy/M-L-Bootcamp-cz.1/blob/master/18_przeszukiwanie_siatki.ipynb\" target=\"_parent\"><img src=\"https://colab.research.google.com/assets/colab-badge.svg\" alt=\"Open In Colab\"/></a>"
      ]
    },
    {
      "cell_type": "code",
      "metadata": {
        "id": "B39J6J9lQuiV"
      },
      "source": [
        "import numpy as np\n",
        "import pandas as pd\n",
        "import matplotlib.pyplot as plt\n",
        "import seaborn as sns\n",
        "from sklearn.datasets import make_moons\n",
        "import plotly.express as px\n",
        "\n",
        "np.random.seed(42)"
      ],
      "execution_count": 1,
      "outputs": []
    },
    {
      "cell_type": "markdown",
      "metadata": {
        "id": "OUbDpEYgTCqz"
      },
      "source": [
        "#Generowanie danych"
      ]
    },
    {
      "cell_type": "code",
      "metadata": {
        "id": "YIPpHYwvS8k1",
        "outputId": "c2452b6d-a874-481f-9a46-ad964494e659",
        "colab": {
          "base_uri": "https://localhost:8080/",
          "height": 406
        }
      },
      "source": [
        "raw_data = make_moons(n_samples=2000, noise=0.25, random_state=42)\n",
        "data = raw_data[0]\n",
        "target = raw_data[1]\n",
        "\n",
        "df = pd.DataFrame(data=np.c_[data,target], columns=['x1','x2','target'])\n",
        "df"
      ],
      "execution_count": 4,
      "outputs": [
        {
          "output_type": "execute_result",
          "data": {
            "text/html": [
              "<div>\n",
              "<style scoped>\n",
              "    .dataframe tbody tr th:only-of-type {\n",
              "        vertical-align: middle;\n",
              "    }\n",
              "\n",
              "    .dataframe tbody tr th {\n",
              "        vertical-align: top;\n",
              "    }\n",
              "\n",
              "    .dataframe thead th {\n",
              "        text-align: right;\n",
              "    }\n",
              "</style>\n",
              "<table border=\"1\" class=\"dataframe\">\n",
              "  <thead>\n",
              "    <tr style=\"text-align: right;\">\n",
              "      <th></th>\n",
              "      <th>x1</th>\n",
              "      <th>x2</th>\n",
              "      <th>target</th>\n",
              "    </tr>\n",
              "  </thead>\n",
              "  <tbody>\n",
              "    <tr>\n",
              "      <th>0</th>\n",
              "      <td>1.582305</td>\n",
              "      <td>0.366876</td>\n",
              "      <td>1.0</td>\n",
              "    </tr>\n",
              "    <tr>\n",
              "      <th>1</th>\n",
              "      <td>0.327654</td>\n",
              "      <td>0.982366</td>\n",
              "      <td>0.0</td>\n",
              "    </tr>\n",
              "    <tr>\n",
              "      <th>2</th>\n",
              "      <td>0.488270</td>\n",
              "      <td>-0.246765</td>\n",
              "      <td>1.0</td>\n",
              "    </tr>\n",
              "    <tr>\n",
              "      <th>3</th>\n",
              "      <td>-0.937421</td>\n",
              "      <td>-0.029429</td>\n",
              "      <td>0.0</td>\n",
              "    </tr>\n",
              "    <tr>\n",
              "      <th>4</th>\n",
              "      <td>0.634397</td>\n",
              "      <td>-0.412224</td>\n",
              "      <td>1.0</td>\n",
              "    </tr>\n",
              "    <tr>\n",
              "      <th>...</th>\n",
              "      <td>...</td>\n",
              "      <td>...</td>\n",
              "      <td>...</td>\n",
              "    </tr>\n",
              "    <tr>\n",
              "      <th>1995</th>\n",
              "      <td>0.259746</td>\n",
              "      <td>0.107342</td>\n",
              "      <td>1.0</td>\n",
              "    </tr>\n",
              "    <tr>\n",
              "      <th>1996</th>\n",
              "      <td>0.363180</td>\n",
              "      <td>-0.404324</td>\n",
              "      <td>1.0</td>\n",
              "    </tr>\n",
              "    <tr>\n",
              "      <th>1997</th>\n",
              "      <td>-0.982272</td>\n",
              "      <td>0.685059</td>\n",
              "      <td>0.0</td>\n",
              "    </tr>\n",
              "    <tr>\n",
              "      <th>1998</th>\n",
              "      <td>0.789171</td>\n",
              "      <td>-0.827167</td>\n",
              "      <td>1.0</td>\n",
              "    </tr>\n",
              "    <tr>\n",
              "      <th>1999</th>\n",
              "      <td>0.263393</td>\n",
              "      <td>0.062831</td>\n",
              "      <td>1.0</td>\n",
              "    </tr>\n",
              "  </tbody>\n",
              "</table>\n",
              "<p>2000 rows × 3 columns</p>\n",
              "</div>"
            ],
            "text/plain": [
              "            x1        x2  target\n",
              "0     1.582305  0.366876     1.0\n",
              "1     0.327654  0.982366     0.0\n",
              "2     0.488270 -0.246765     1.0\n",
              "3    -0.937421 -0.029429     0.0\n",
              "4     0.634397 -0.412224     1.0\n",
              "...        ...       ...     ...\n",
              "1995  0.259746  0.107342     1.0\n",
              "1996  0.363180 -0.404324     1.0\n",
              "1997 -0.982272  0.685059     0.0\n",
              "1998  0.789171 -0.827167     1.0\n",
              "1999  0.263393  0.062831     1.0\n",
              "\n",
              "[2000 rows x 3 columns]"
            ]
          },
          "metadata": {
            "tags": []
          },
          "execution_count": 4
        }
      ]
    },
    {
      "cell_type": "markdown",
      "metadata": {
        "id": "WdPjOcn8TmxQ"
      },
      "source": [
        "###Zbiór treningowy i testowy"
      ]
    },
    {
      "cell_type": "code",
      "metadata": {
        "id": "Y6JYQHGfTOK8"
      },
      "source": [
        "from sklearn.model_selection import train_test_split\n",
        "\n",
        "X_train, X_test, y_train, y_test = train_test_split(data, target)"
      ],
      "execution_count": 7,
      "outputs": []
    },
    {
      "cell_type": "markdown",
      "metadata": {
        "id": "n92mKqeOT-lW"
      },
      "source": [
        "#Wybór optymalnych parametrów - vol.1"
      ]
    },
    {
      "cell_type": "code",
      "metadata": {
        "id": "yf4OhY5pTyuL",
        "outputId": "5edd1482-7583-461b-b960-76f3ce3bf681",
        "colab": {
          "base_uri": "https://localhost:8080/",
          "height": 354
        }
      },
      "source": [
        "from sklearn.tree import DecisionTreeClassifier\n",
        "from sklearn.model_selection import GridSearchCV\n",
        "\n",
        "cls = DecisionTreeClassifier()\n",
        "\n",
        "params= {'max_depth':np.arange(1, 10),\n",
        "         'min_samples_leaf':[1,2,3,4,5,6,7,8,9,10,15,20]}\n",
        "\n",
        "grid_search = GridSearchCV(cls, # model\n",
        "                           param_grid=params, # siatka parametrów \n",
        "                           scoring='accuracy', # wg jakiej cechy oceniony będzie model\n",
        "                           cv=5) # walidacja krzyżowa\n",
        "grid_search.fit(X_train, y_train)"
      ],
      "execution_count": 8,
      "outputs": [
        {
          "output_type": "execute_result",
          "data": {
            "text/plain": [
              "GridSearchCV(cv=5, error_score=nan,\n",
              "             estimator=DecisionTreeClassifier(ccp_alpha=0.0, class_weight=None,\n",
              "                                              criterion='gini', max_depth=None,\n",
              "                                              max_features=None,\n",
              "                                              max_leaf_nodes=None,\n",
              "                                              min_impurity_decrease=0.0,\n",
              "                                              min_impurity_split=None,\n",
              "                                              min_samples_leaf=1,\n",
              "                                              min_samples_split=2,\n",
              "                                              min_weight_fraction_leaf=0.0,\n",
              "                                              presort='deprecated',\n",
              "                                              random_state=None,\n",
              "                                              splitter='best'),\n",
              "             iid='deprecated', n_jobs=None,\n",
              "             param_grid={'max_depth': array([1, 2, 3, 4, 5, 6, 7, 8, 9]),\n",
              "                         'min_samples_leaf': [1, 2, 3, 4, 5, 6, 7, 8, 9, 10, 15,\n",
              "                                              20]},\n",
              "             pre_dispatch='2*n_jobs', refit=True, return_train_score=False,\n",
              "             scoring='accuracy', verbose=0)"
            ]
          },
          "metadata": {
            "tags": []
          },
          "execution_count": 8
        }
      ]
    },
    {
      "cell_type": "code",
      "metadata": {
        "id": "n-BKCSjhUtgH",
        "outputId": "d9a8d0df-fb90-41a9-9b47-c86e8e4b11ed",
        "colab": {
          "base_uri": "https://localhost:8080/",
          "height": 34
        }
      },
      "source": [
        "grid_search.best_params_"
      ],
      "execution_count": 9,
      "outputs": [
        {
          "output_type": "execute_result",
          "data": {
            "text/plain": [
              "{'max_depth': 5, 'min_samples_leaf': 7}"
            ]
          },
          "metadata": {
            "tags": []
          },
          "execution_count": 9
        }
      ]
    },
    {
      "cell_type": "markdown",
      "metadata": {
        "id": "0SzQQRLSWFHS"
      },
      "source": [
        "###Wizualizacja"
      ]
    },
    {
      "cell_type": "code",
      "metadata": {
        "id": "96KCZL5aVno9",
        "outputId": "b9a4a5bf-37dc-46a6-e0e4-13f7b042644e",
        "colab": {
          "base_uri": "https://localhost:8080/",
          "height": 570
        }
      },
      "source": [
        "from mlxtend.plotting import plot_decision_regions\n",
        "\n",
        "plt.figure(figsize=(10,8))\n",
        "plot_decision_regions(X_test, y_test, grid_search)\n",
        "plt.title(f'Zbiór treningowy: dokładność {grid_search.score(X_test,y_test):.4f}')\n",
        "plt.show()"
      ],
      "execution_count": 10,
      "outputs": [
        {
          "output_type": "stream",
          "text": [
            "/usr/local/lib/python3.6/dist-packages/mlxtend/plotting/decision_regions.py:244: MatplotlibDeprecationWarning:\n",
            "\n",
            "Passing unsupported keyword arguments to axis() will raise a TypeError in 3.3.\n",
            "\n"
          ],
          "name": "stderr"
        },
        {
          "output_type": "display_data",
          "data": {
            "image/png": "[encoded data removed]",
            "text/plain": [
              "<Figure size 720x576 with 1 Axes>"
            ]
          },
          "metadata": {
            "tags": [],
            "needs_background": "light"
          }
        }
      ]
    },
    {
      "cell_type": "markdown",
      "metadata": {
        "id": "wU7v0D9KXBnp"
      },
      "source": [
        "#Wybór optymalnych parametrów - vol.2"
      ]
    },
    {
      "cell_type": "code",
      "metadata": {
        "id": "aMYtWUzTWa33",
        "outputId": "b7ccb6c3-250a-4f42-bb26-f256bb75f061",
        "colab": {
          "base_uri": "https://localhost:8080/",
          "height": 372
        }
      },
      "source": [
        "cls = DecisionTreeClassifier()\n",
        "\n",
        "params= {'criterion':['gini','entropy'],\n",
        "         'max_depth':np.arange(1, 10),\n",
        "         'min_samples_leaf':[1,2,3,4,5,6,7,8,9,10,15,20],}\n",
        "\n",
        "'''\n",
        "MOŻNA TEŻ PODAĆ SIATKĘ JAKO LISTĘ SŁOWNIKÓW\n",
        "\n",
        "params = [\n",
        "  {'criterion':['gini'], 'max_depth':[1,2,3,4,5]},\n",
        "  {'criterion':['entropy'], 'max_depth':[2,3,4,5]}\n",
        "]\n",
        "'''\n",
        "\n",
        "grid_search = GridSearchCV(cls, # model\n",
        "                           param_grid=params, # siatka parametrów \n",
        "                           scoring='accuracy', # wg jakiej cechy oceniony będzie model\n",
        "                           cv=5) # walidacja krzyżowa\n",
        "grid_search.fit(X_train, y_train)"
      ],
      "execution_count": 15,
      "outputs": [
        {
          "output_type": "execute_result",
          "data": {
            "text/plain": [
              "GridSearchCV(cv=5, error_score=nan,\n",
              "             estimator=DecisionTreeClassifier(ccp_alpha=0.0, class_weight=None,\n",
              "                                              criterion='gini', max_depth=None,\n",
              "                                              max_features=None,\n",
              "                                              max_leaf_nodes=None,\n",
              "                                              min_impurity_decrease=0.0,\n",
              "                                              min_impurity_split=None,\n",
              "                                              min_samples_leaf=1,\n",
              "                                              min_samples_split=2,\n",
              "                                              min_weight_fraction_leaf=0.0,\n",
              "                                              presort='deprecated',\n",
              "                                              random_state=None,\n",
              "                                              splitter='best'),\n",
              "             iid='deprecated', n_jobs=None,\n",
              "             param_grid={'criterion': ['gini', 'entropy'],\n",
              "                         'max_depth': array([1, 2, 3, 4, 5, 6, 7, 8, 9]),\n",
              "                         'min_samples_leaf': [1, 2, 3, 4, 5, 6, 7, 8, 9, 10, 15,\n",
              "                                              20]},\n",
              "             pre_dispatch='2*n_jobs', refit=True, return_train_score=False,\n",
              "             scoring='accuracy', verbose=0)"
            ]
          },
          "metadata": {
            "tags": []
          },
          "execution_count": 15
        }
      ]
    },
    {
      "cell_type": "code",
      "metadata": {
        "id": "rvAaI6rZXNst",
        "outputId": "f8cf7dff-fc36-4f87-c133-8198db858229",
        "colab": {
          "base_uri": "https://localhost:8080/",
          "height": 34
        }
      },
      "source": [
        "grid_search.best_params_"
      ],
      "execution_count": 12,
      "outputs": [
        {
          "output_type": "execute_result",
          "data": {
            "text/plain": [
              "{'criterion': 'entropy', 'max_depth': 9, 'min_samples_leaf': 8}"
            ]
          },
          "metadata": {
            "tags": []
          },
          "execution_count": 12
        }
      ]
    },
    {
      "cell_type": "code",
      "metadata": {
        "id": "ZvzYJ-ctXQV6",
        "outputId": "28400cb6-d57d-4adc-d4af-6c112176e4c9",
        "colab": {
          "base_uri": "https://localhost:8080/",
          "height": 123
        }
      },
      "source": [
        "grid_search.best_estimator_"
      ],
      "execution_count": 13,
      "outputs": [
        {
          "output_type": "execute_result",
          "data": {
            "text/plain": [
              "DecisionTreeClassifier(ccp_alpha=0.0, class_weight=None, criterion='entropy',\n",
              "                       max_depth=9, max_features=None, max_leaf_nodes=None,\n",
              "                       min_impurity_decrease=0.0, min_impurity_split=None,\n",
              "                       min_samples_leaf=8, min_samples_split=2,\n",
              "                       min_weight_fraction_leaf=0.0, presort='deprecated',\n",
              "                       random_state=None, splitter='best')"
            ]
          },
          "metadata": {
            "tags": []
          },
          "execution_count": 13
        }
      ]
    },
    {
      "cell_type": "code",
      "metadata": {
        "id": "-oEqmmzjXTZo",
        "outputId": "4449d129-fb89-43a9-b305-d94869b11ba8",
        "colab": {
          "base_uri": "https://localhost:8080/",
          "height": 570
        }
      },
      "source": [
        "from mlxtend.plotting import plot_decision_regions\n",
        "\n",
        "plt.figure(figsize=(10,8))\n",
        "plot_decision_regions(X_test, y_test, grid_search)\n",
        "plt.title(f'Zbiór treningowy: dokładność {grid_search.score(X_test,y_test):.4f}')\n",
        "plt.show()"
      ],
      "execution_count": 14,
      "outputs": [
        {
          "output_type": "stream",
          "text": [
            "/usr/local/lib/python3.6/dist-packages/mlxtend/plotting/decision_regions.py:244: MatplotlibDeprecationWarning:\n",
            "\n",
            "Passing unsupported keyword arguments to axis() will raise a TypeError in 3.3.\n",
            "\n"
          ],
          "name": "stderr"
        },
        {
          "output_type": "display_data",
          "data": {
            "image/png": "[encoded data removed]",
            "text/plain": [
              "<Figure size 720x576 with 1 Axes>"
            ]
          },
          "metadata": {
            "tags": [],
            "needs_background": "light"
          }
        }
      ]
    },
    {
      "cell_type": "markdown",
      "metadata": {
        "id": "sTUhnw88Y5ar"
      },
      "source": [
        "#Wybór optymalnych parametrów - vol.3: przykład lasów losowych"
      ]
    },
    {
      "cell_type": "code",
      "metadata": {
        "id": "3UQFhv7fX7To",
        "outputId": "112fb99a-43aa-4888-c946-4d64eb5f7ea9",
        "colab": {
          "base_uri": "https://localhost:8080/",
          "height": 407
        }
      },
      "source": [
        "from sklearn.ensemble import RandomForestClassifier\n",
        "\n",
        "cls = RandomForestClassifier(random_state=42)\n",
        "\n",
        "param_grid={\n",
        "    'criterion':['gini','entropy'],\n",
        "    'max_depth':np.arange(4,10),\n",
        "    'min_samples_leaf':[4,5,6,7,8,9,10],\n",
        "    'n_estimators':[50]\n",
        "}\n",
        "\n",
        "grid_search = GridSearchCV(cls, param_grid=param_grid, n_jobs=-1, scoring='accuracy', cv=5)\n",
        "grid_search.fit(X_train, y_train)"
      ],
      "execution_count": 16,
      "outputs": [
        {
          "output_type": "execute_result",
          "data": {
            "text/plain": [
              "GridSearchCV(cv=5, error_score=nan,\n",
              "             estimator=RandomForestClassifier(bootstrap=True, ccp_alpha=0.0,\n",
              "                                              class_weight=None,\n",
              "                                              criterion='gini', max_depth=None,\n",
              "                                              max_features='auto',\n",
              "                                              max_leaf_nodes=None,\n",
              "                                              max_samples=None,\n",
              "                                              min_impurity_decrease=0.0,\n",
              "                                              min_impurity_split=None,\n",
              "                                              min_samples_leaf=1,\n",
              "                                              min_samples_split=2,\n",
              "                                              min_weight_fraction_leaf=0.0,\n",
              "                                              n_estimators=100, n_jobs=None,\n",
              "                                              oob_score=False, random_state=42,\n",
              "                                              verbose=0, warm_start=False),\n",
              "             iid='deprecated', n_jobs=-1,\n",
              "             param_grid={'criterion': ['gini', 'entropy'],\n",
              "                         'max_depth': array([4, 5, 6, 7, 8, 9]),\n",
              "                         'min_samples_leaf': [4, 5, 6, 7, 8, 9, 10],\n",
              "                         'n_estimators': [50]},\n",
              "             pre_dispatch='2*n_jobs', refit=True, return_train_score=False,\n",
              "             scoring='accuracy', verbose=0)"
            ]
          },
          "metadata": {
            "tags": []
          },
          "execution_count": 16
        }
      ]
    },
    {
      "cell_type": "code",
      "metadata": {
        "id": "cjrJtwLJZfqL",
        "outputId": "310b92de-a669-4b27-d00e-9d2bfac248ac",
        "colab": {
          "base_uri": "https://localhost:8080/",
          "height": 87
        }
      },
      "source": [
        "grid_search.best_params_"
      ],
      "execution_count": 17,
      "outputs": [
        {
          "output_type": "execute_result",
          "data": {
            "text/plain": [
              "{'criterion': 'gini',\n",
              " 'max_depth': 8,\n",
              " 'min_samples_leaf': 10,\n",
              " 'n_estimators': 50}"
            ]
          },
          "metadata": {
            "tags": []
          },
          "execution_count": 17
        }
      ]
    },
    {
      "cell_type": "code",
      "metadata": {
        "id": "pEOAT6dsZ8Vb",
        "outputId": "9ba69b63-17cf-4ee6-a03b-e8675fea04cb",
        "colab": {
          "base_uri": "https://localhost:8080/",
          "height": 587
        }
      },
      "source": [
        "plt.figure(figsize=(10,8))\n",
        "plot_decision_regions(X_test,y_test, grid_search)\n",
        "plt.title(f'Zbiór testowy: dokładność {grid_search.score(X_test, y_test):.4f}')"
      ],
      "execution_count": 20,
      "outputs": [
        {
          "output_type": "stream",
          "text": [
            "/usr/local/lib/python3.6/dist-packages/mlxtend/plotting/decision_regions.py:244: MatplotlibDeprecationWarning:\n",
            "\n",
            "Passing unsupported keyword arguments to axis() will raise a TypeError in 3.3.\n",
            "\n"
          ],
          "name": "stderr"
        },
        {
          "output_type": "execute_result",
          "data": {
            "text/plain": [
              "Text(0.5, 1.0, 'Zbiór testowy: dokładność 0.9500')"
            ]
          },
          "metadata": {
            "tags": []
          },
          "execution_count": 20
        },
        {
          "output_type": "display_data",
          "data": {
            "image/png": "[encoded data removed]",
            "text/plain": [
              "<Figure size 720x576 with 1 Axes>"
            ]
          },
          "metadata": {
            "tags": [],
            "needs_background": "light"
          }
        }
      ]
    },
    {
      "cell_type": "code",
      "metadata": {
        "id": "xCYYR9aoaiGr"
      },
      "source": [
        ""
      ],
      "execution_count": null,
      "outputs": []
    }
  ]
}
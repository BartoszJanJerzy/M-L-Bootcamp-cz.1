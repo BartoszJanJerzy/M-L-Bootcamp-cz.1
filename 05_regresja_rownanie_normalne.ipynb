{
  "nbformat": 4,
  "nbformat_minor": 0,
  "metadata": {
    "colab": {
      "name": "05_regresja_rownanie_normalne.ipynb",
      "provenance": [],
      "authorship_tag": "ABX9TyOH8ZTet8Ty/FSOsw/q0v3c",
      "include_colab_link": true
    },
    "kernelspec": {
      "name": "python3",
      "display_name": "Python 3"
    }
  },
  "cells": [
    {
      "cell_type": "markdown",
      "metadata": {
        "id": "view-in-github",
        "colab_type": "text"
      },
      "source": [
        "<a href=\"https://colab.research.google.com/github/BartoszJanJerzy/M-L-Bootcamp-cz.1/blob/master/05_regresja_rownanie_normalne.ipynb\" target=\"_parent\"><img src=\"https://colab.research.google.com/assets/colab-badge.svg\" alt=\"Open In Colab\"/></a>"
      ]
    },
    {
      "cell_type": "code",
      "metadata": {
        "id": "dCG_6BeahhS0",
        "colab_type": "code",
        "colab": {}
      },
      "source": [
        "import numpy as np"
      ],
      "execution_count": 1,
      "outputs": []
    },
    {
      "cell_type": "markdown",
      "metadata": {
        "id": "Y3QQ1oeoiFj2",
        "colab_type": "text"
      },
      "source": [
        "##Tworzenie danych"
      ]
    },
    {
      "cell_type": "code",
      "metadata": {
        "id": "64nrhX-9hipA",
        "colab_type": "code",
        "colab": {
          "base_uri": "https://localhost:8080/",
          "height": 68
        },
        "outputId": "9b99eae6-92ff-4143-d995-86e5b8bc91f7"
      },
      "source": [
        "X1 = np.array([1,2,3,4,5,6])\n",
        "Y = np.array([3000,3250,3500,3750,4000,4250])\n",
        "m = len(X1)\n",
        "\n",
        "print(f\"Lata pracy {X1}\")\n",
        "print(f'Wynagrodzenie {Y}')\n",
        "print(f'Liczba próbek {m}')"
      ],
      "execution_count": 20,
      "outputs": [
        {
          "output_type": "stream",
          "text": [
            "Lata pracy [1 2 3 4 5 6]\n",
            "Wynagrodzenie [3000 3250 3500 3750 4000 4250]\n",
            "Liczba próbek 6\n"
          ],
          "name": "stdout"
        }
      ]
    },
    {
      "cell_type": "code",
      "metadata": {
        "id": "fvW77LYDhwG3",
        "colab_type": "code",
        "colab": {
          "base_uri": "https://localhost:8080/",
          "height": 119
        },
        "outputId": "669cf3a4-f95a-48d7-b718-c3aca890b1c3"
      },
      "source": [
        "# zmiana z listy na macierz\n",
        "X1 = X1.reshape(m,1)\n",
        "print(X1)"
      ],
      "execution_count": 26,
      "outputs": [
        {
          "output_type": "stream",
          "text": [
            "[[1]\n",
            " [2]\n",
            " [3]\n",
            " [4]\n",
            " [5]\n",
            " [6]]\n"
          ],
          "name": "stdout"
        }
      ]
    },
    {
      "cell_type": "code",
      "metadata": {
        "id": "T9Lbp7SdiVT-",
        "colab_type": "code",
        "colab": {
          "base_uri": "https://localhost:8080/",
          "height": 119
        },
        "outputId": "952a553e-9000-4ed3-a506-ef95e94533ef"
      },
      "source": [
        "# wektor wyrazów wolnych\n",
        "bias = np.ones((m,1))\n",
        "print(bias)"
      ],
      "execution_count": 16,
      "outputs": [
        {
          "output_type": "stream",
          "text": [
            "[[1.]\n",
            " [1.]\n",
            " [1.]\n",
            " [1.]\n",
            " [1.]\n",
            " [1.]]\n"
          ],
          "name": "stdout"
        }
      ]
    },
    {
      "cell_type": "code",
      "metadata": {
        "id": "bLd1rA1Vicxb",
        "colab_type": "code",
        "colab": {
          "base_uri": "https://localhost:8080/",
          "height": 119
        },
        "outputId": "c6b387f3-46a0-4bc7-a279-765702556836"
      },
      "source": [
        "# połączenie danych w lewą strone równania\n",
        "X = np.append(bias, X1, axis=1)\n",
        "print(X)"
      ],
      "execution_count": 17,
      "outputs": [
        {
          "output_type": "stream",
          "text": [
            "[[1. 1.]\n",
            " [1. 2.]\n",
            " [1. 3.]\n",
            " [1. 4.]\n",
            " [1. 5.]\n",
            " [1. 6.]]\n"
          ],
          "name": "stdout"
        }
      ]
    },
    {
      "cell_type": "markdown",
      "metadata": {
        "id": "CCPgZQ8ujDL2",
        "colab_type": "text"
      },
      "source": [
        "Regresja liniowa w $R^2$:\n",
        "$$Y = w_0 + w_1X_1$$\n",
        "$$Y = W^TX$$\n",
        "gdzie: $$W= \\left[\\begin{matrix}w_0\\\\w_1\\end{matrix}\\right]$$ $$ X= \\left[\\begin{matrix}1\\\\X_1\\end{matrix}\\right] $$ stąd $$ W^T= \\left[\\begin{matrix}w_0&w_1\\end{matrix}\\right] $$    \n",
        "$$Y = W^TX = \\left[\\begin{matrix}w_0&w_1\\end{matrix}\\right] \\cdot  \\left[\\begin{matrix}1\\\\X_1\\end{matrix}\\right] = w_0 + w_1X_1$$\n",
        "\n",
        "Równanie normalne - równanie pozwalające obliczyć minimum funkcji straty (o ile istnieje)\n",
        "$$W = (X^TX)^{-1}(X^TY)$$"
      ]
    },
    {
      "cell_type": "code",
      "metadata": {
        "id": "-577nL3wi0yD",
        "colab_type": "code",
        "colab": {
          "base_uri": "https://localhost:8080/",
          "height": 51
        },
        "outputId": "c1774f50-d8b3-4af0-9500-c397c54d8f0b"
      },
      "source": [
        "# mnożenie macierzy (Xt * X)-1\n",
        "L = np.linalg.inv(np.dot(X.T, X))\n",
        "L"
      ],
      "execution_count": 18,
      "outputs": [
        {
          "output_type": "execute_result",
          "data": {
            "text/plain": [
              "array([[ 0.86666667, -0.2       ],\n",
              "       [-0.2       ,  0.05714286]])"
            ]
          },
          "metadata": {
            "tags": []
          },
          "execution_count": 18
        }
      ]
    },
    {
      "cell_type": "code",
      "metadata": {
        "id": "iKHpEx9wjzzj",
        "colab_type": "code",
        "colab": {
          "base_uri": "https://localhost:8080/",
          "height": 34
        },
        "outputId": "52e92bc5-0dae-4c97-9d8f-f556f44a6511"
      },
      "source": [
        "# mnożenie macierzy Xt*Y\n",
        "P = np.dot(X.T,Y)\n",
        "P"
      ],
      "execution_count": 21,
      "outputs": [
        {
          "output_type": "execute_result",
          "data": {
            "text/plain": [
              "array([21750., 80500.])"
            ]
          },
          "metadata": {
            "tags": []
          },
          "execution_count": 21
        }
      ]
    },
    {
      "cell_type": "code",
      "metadata": {
        "id": "onyvfwS-kQcw",
        "colab_type": "code",
        "colab": {
          "base_uri": "https://localhost:8080/",
          "height": 34
        },
        "outputId": "379ed529-90a8-4ed9-91f6-d00d62f5af23"
      },
      "source": [
        "# mnożenei powstałych maceirzy przez siebie\n",
        "W = np.dot(L,P)\n",
        "W"
      ],
      "execution_count": 22,
      "outputs": [
        {
          "output_type": "execute_result",
          "data": {
            "text/plain": [
              "array([2750.,  250.])"
            ]
          },
          "metadata": {
            "tags": []
          },
          "execution_count": 22
        }
      ]
    },
    {
      "cell_type": "code",
      "metadata": {
        "id": "2vZOK161kZGY",
        "colab_type": "code",
        "colab": {
          "base_uri": "https://localhost:8080/",
          "height": 34
        },
        "outputId": "b90e74a8-deb3-43e0-f8d6-72f7d9acb4a4"
      },
      "source": [
        "print(f\"Y = {W[1]}*X + {W[0]}\")"
      ],
      "execution_count": 24,
      "outputs": [
        {
          "output_type": "stream",
          "text": [
            "Y = 250.0*X + 2750.0\n"
          ],
          "name": "stdout"
        }
      ]
    },
    {
      "cell_type": "markdown",
      "metadata": {
        "id": "dADbpAQ8lQCb",
        "colab_type": "text"
      },
      "source": [
        "## A teraz za pomocą scikit-learn"
      ]
    },
    {
      "cell_type": "code",
      "metadata": {
        "id": "tnrkxS_mlBml",
        "colab_type": "code",
        "colab": {
          "base_uri": "https://localhost:8080/",
          "height": 51
        },
        "outputId": "791a7ec0-3da5-4be6-8259-e0bd8fb450ea"
      },
      "source": [
        "from sklearn.linear_model import LinearRegression\n",
        "\n",
        "X1 = np.array([1,2,3,4,5,6])\n",
        "Y = np.array([3000,3250,3500,3750,4000,4250])\n",
        "m = len(X1)\n",
        "\n",
        "X1 = X1.reshape(m,1)\n",
        "\n",
        "regression = LinearRegression()\n",
        "regression.fit(X1,Y)\n",
        "\n",
        "print(regression.intercept_)\n",
        "print(regression.coef_)"
      ],
      "execution_count": 29,
      "outputs": [
        {
          "output_type": "stream",
          "text": [
            "2750.0\n",
            "[250.]\n"
          ],
          "name": "stdout"
        }
      ]
    },
    {
      "cell_type": "code",
      "metadata": {
        "id": "83vTCCBplmGU",
        "colab_type": "code",
        "colab": {}
      },
      "source": [
        ""
      ],
      "execution_count": null,
      "outputs": []
    }
  ]
}